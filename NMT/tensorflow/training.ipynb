{
 "cells": [
  {
   "cell_type": "code",
   "execution_count": 1,
   "metadata": {
    "colab": {
     "base_uri": "https://localhost:8080/"
    },
    "id": "YCB2Jm8Wt1KU",
    "outputId": "5a966ac2-daaf-4528-b4dc-81d98fcd6557"
   },
   "outputs": [
    {
     "name": "stdout",
     "output_type": "stream",
     "text": [
      "/bin/bash: nvidia-smi: command not found\r\n"
     ]
    }
   ],
   "source": [
    "!nvidia-smi"
   ]
  },
  {
   "cell_type": "code",
   "execution_count": 2,
   "metadata": {
    "colab": {
     "base_uri": "https://localhost:8080/"
    },
    "id": "Z8cSsnY4_h_u",
    "outputId": "d6a2639b-7d43-4e5e-dedb-422831aa554a"
   },
   "outputs": [
    {
     "name": "stdout",
     "output_type": "stream",
     "text": [
      "cal_bleu_score.ipynb  demo.ipynb     loss.ipynb\r\n",
      "checkpoints\t      DL_Report.pdf  training.ipynb\r\n",
      "data\t\t      DL_Slide.pptx  translate_en_vi_converter\r\n"
     ]
    }
   ],
   "source": [
    "!ls"
   ]
  },
  {
   "cell_type": "code",
   "execution_count": 3,
   "metadata": {
    "colab": {
     "base_uri": "https://localhost:8080/"
    },
    "id": "F8kB7zY9__AZ",
    "outputId": "70913579-8f72-4aea-dbf0-4a357fd474fc"
   },
   "outputs": [
    {
     "name": "stdout",
     "output_type": "stream",
     "text": [
      "/content/drive/MyDrive/Deep Learning\n"
     ]
    }
   ],
   "source": [
    "# cd drive/MyDrive/Deep Learning"
   ]
  },
  {
   "cell_type": "code",
   "execution_count": 4,
   "metadata": {
    "colab": {
     "base_uri": "https://localhost:8080/"
    },
    "id": "NdciJe00GQQL",
    "outputId": "f4266524-1cec-4b89-a190-ecb828eab282"
   },
   "outputs": [
    {
     "name": "stdout",
     "output_type": "stream",
     "text": [
      "/usr/lib/python3/dist-packages/secretstorage/dhcrypto.py:15: CryptographyDeprecationWarning: int_from_bytes is deprecated, use int.from_bytes instead\n",
      "  from cryptography.utils import int_from_bytes\n",
      "/usr/lib/python3/dist-packages/secretstorage/util.py:19: CryptographyDeprecationWarning: int_from_bytes is deprecated, use int.from_bytes instead\n",
      "  from cryptography.utils import int_from_bytes\n",
      "/usr/lib/python3/dist-packages/secretstorage/dhcrypto.py:15: CryptographyDeprecationWarning: int_from_bytes is deprecated, use int.from_bytes instead\n",
      "  from cryptography.utils import int_from_bytes\n",
      "/usr/lib/python3/dist-packages/secretstorage/util.py:19: CryptographyDeprecationWarning: int_from_bytes is deprecated, use int.from_bytes instead\n",
      "  from cryptography.utils import int_from_bytes\n"
     ]
    }
   ],
   "source": [
    "! pip3 install -q tensorflow_datasets\n",
    "! pip3 install -q tensorflow_text"
   ]
  },
  {
   "cell_type": "code",
   "execution_count": 5,
   "metadata": {
    "id": "xRa5RF-UA_nY"
   },
   "outputs": [],
   "source": [
    "import os\n",
    "import unicodedata\n",
    "import regex as re\n",
    "import numpy as np\n",
    "\n",
    "import collections\n",
    "import logging\n",
    "import pathlib\n",
    "import re\n",
    "import string\n",
    "import sys\n",
    "import time\n",
    "\n",
    "import matplotlib.pyplot as plt\n",
    "\n",
    "import tensorflow_text as tf_text\n",
    "import tensorflow as tf\n",
    "\n",
    "import nltk.translate.bleu_score as bleu"
   ]
  },
  {
   "cell_type": "code",
   "execution_count": 6,
   "metadata": {
    "id": "zVxLgVJ8Pnuv"
   },
   "outputs": [],
   "source": [
    "logging.getLogger('tensorflow').setLevel(logging.ERROR)"
   ]
  },
  {
   "cell_type": "code",
   "execution_count": 7,
   "metadata": {
    "colab": {
     "base_uri": "https://localhost:8080/"
    },
    "id": "-rp3uFQKxafK",
    "outputId": "5c80c094-48c8-46df-a0b1-10319d3fa45b"
   },
   "outputs": [
    {
     "data": {
      "text/plain": [
       "['test.en',\n",
       " 'test.vi',\n",
       " 'train.en',\n",
       " 'validation.vi',\n",
       " 'train.vi',\n",
       " 'validation.en']"
      ]
     },
     "execution_count": 7,
     "metadata": {
      "tags": []
     },
     "output_type": "execute_result"
    }
   ],
   "source": [
    "os.listdir('data')"
   ]
  },
  {
   "cell_type": "code",
   "execution_count": 8,
   "metadata": {
    "id": "PcgYKDx9Awvv"
   },
   "outputs": [],
   "source": [
    "def create_dataset(src_file, trg_file):\n",
    "    with open(src_file, 'r', encoding='utf-8') as f:\n",
    "        list_src = f.readlines()\n",
    "    \n",
    "    with open(trg_file, 'r', encoding='utf-8') as f:\n",
    "        list_trg = f.readlines()\n",
    "    \n",
    "    dataset = tf.data.Dataset.from_tensor_slices((list_src, list_trg))\n",
    "    dataset = dataset.prefetch(0)\n",
    "\n",
    "    return dataset"
   ]
  },
  {
   "cell_type": "code",
   "execution_count": 9,
   "metadata": {
    "id": "G_np19olmPh4"
   },
   "outputs": [],
   "source": [
    "# tạo dataset từ các file\n",
    "train_examples = create_dataset(\"data/train.en\", \"data/train.vi\")\n",
    "validation_examples = create_dataset(\"data/validation.en\", \"data/validation.vi\")\n",
    "test_examples = create_dataset(\"data/test.en\", \"data/test.vi\")"
   ]
  },
  {
   "cell_type": "code",
   "execution_count": 10,
   "metadata": {
    "id": "CnMwBiEZ72qt"
   },
   "outputs": [],
   "source": [
    "model_name = 'translate_en_vi_converter'\n",
    "tokenizers = tf.saved_model.load(model_name)"
   ]
  },
  {
   "cell_type": "code",
   "execution_count": 11,
   "metadata": {
    "colab": {
     "base_uri": "https://localhost:8080/"
    },
    "id": "qluUMa6gmsvo",
    "outputId": "63045723-1b42-40c1-af58-34295a2bdd8b"
   },
   "outputs": [
    {
     "name": "stdout",
     "output_type": "stream",
     "text": [
      "rachel pike : the science behind a climate headline\n",
      "\n",
      "in 4 minutes , atmospheric chemist rachel pike provides a glimpse of the massive scientific effort behind the bold headlines on climate change , with her team -- one of thousands who contributed -- taking a risky flight over the rainforest in pursuit of data on a key molecule .\n",
      "\n",
      "i 'd like to talk to you today about the scale of the scientific effort that goes into making the headlines you see in the paper .\n",
      "\n",
      "\n",
      "khoa học đằng sau một tiêu đề về khí hậu\n",
      "\n",
      "trong 4 phút , chuyên gia hoá học khí quyển rachel pike giới thiệu sơ lược về những nỗ lực khoa học miệt mài đằng sau những tiêu đề táo bạo về biến đổi khí hậu , cùng với đoàn nghiên cứu của mình -- hàng ngàn người đã cống hiến cho dự án này -- một chuyến bay mạo hiểm qua rừng già để tìm kiếm thông tin về một phân tử then chốt .\n",
      "\n",
      "tôi muốn cho các bạn biết về sự to lớn của những nỗ lực khoa học đã góp phần làm nên các dòng tít bạn thường thấy trên báo .\n",
      "\n"
     ]
    }
   ],
   "source": [
    "for en_examples, vi_examples in train_examples.batch(3).take(1):\n",
    "    for en in en_examples.numpy():\n",
    "        print(en.decode('utf-8'))\n",
    "\n",
    "    print()\n",
    "\n",
    "    for vi in vi_examples.numpy():\n",
    "        print(vi.decode('utf-8'))"
   ]
  },
  {
   "cell_type": "code",
   "execution_count": 12,
   "metadata": {
    "colab": {
     "base_uri": "https://localhost:8080/"
    },
    "id": "czKSQ3aKYOeO",
    "outputId": "35fb5c04-30db-4038-b001-dcbe93741bd0"
   },
   "outputs": [
    {
     "name": "stdout",
     "output_type": "stream",
     "text": [
      "[2, 449, 217, 1227, 260, 162, 500, 265, 189, 515, 811, 3]\n",
      "[2, 172, 23, 690, 15, 791, 302, 324, 217, 515, 1065, 182, 3198, 54, 582, 1991, 241, 1127, 1089, 1354, 189, 165, 1236, 415, 449, 217, 3274, 2851, 1227, 260, 165, 500, 265, 1582, 1086, 189, 454, 295, 515, 811, 15, 268, 179, 1398, 430, 370, 166, 242, 16, 16, 319, 1012, 171, 176, 2200, 1620, 181, 483, 609, 175, 16, 16, 162, 958, 530, 1440, 799, 287, 1121, 1056, 188, 304, 613, 310, 289, 189, 162, 424, 503, 2580, 1402, 17, 3]\n",
      "[2, 160, 235, 181, 173, 169, 224, 189, 180, 784, 273, 166, 165, 1236, 415, 449, 217, 176, 1142, 285, 183, 231, 173, 1001, 3013, 169, 347, 208, 216, 632, 17, 3]\n"
     ]
    }
   ],
   "source": [
    "encoded = tokenizers.vi.tokenize(vi_examples)\n",
    "\n",
    "for row in encoded.to_list():\n",
    "  print(row)"
   ]
  },
  {
   "cell_type": "code",
   "execution_count": 13,
   "metadata": {
    "colab": {
     "base_uri": "https://localhost:8080/"
    },
    "id": "JA4kszIMYnag",
    "outputId": "3dba4883-36d1-4079-8f7a-fa2d4ae42b12"
   },
   "outputs": [
    {
     "name": "stdout",
     "output_type": "stream",
     "text": [
      "khoa học đằng sau một tiêu đề về khí hậu\n",
      "trong 4 phút , chuyên gia hoá học khí quyển rachel pike giới thiệu sơ lược về những nỗ lực khoa học miệt mài đằng sau những tiêu đề táo bạo về biến đổi khí hậu , cùng với đoàn nghiên cứu của mình - - hàng ngàn người đã cống hiến cho dự án này - - một chuyến bay mạo hiểm qua rừng già để tìm kiếm thông tin về một phân tử then chốt .\n",
      "tôi muốn cho các bạn biết về sự to lớn của những nỗ lực khoa học đã góp phần làm nên các dòng tít bạn thường thấy trên báo .\n"
     ]
    }
   ],
   "source": [
    "round_trip = tokenizers.vi.detokenize(encoded)\n",
    "for line in round_trip.numpy():\n",
    "  print(line.decode('utf-8'))"
   ]
  },
  {
   "cell_type": "code",
   "execution_count": 14,
   "metadata": {
    "id": "DLRPQlISpJBZ"
   },
   "outputs": [],
   "source": [
    "def tokenize_pairs(en, vi):\n",
    "    en = tokenizers.en.tokenize(en)\n",
    "    en = en.to_tensor()\n",
    "\n",
    "    vi = tokenizers.vi.tokenize(vi)\n",
    "    vi = vi.to_tensor()\n",
    "    \n",
    "    return en, vi"
   ]
  },
  {
   "cell_type": "code",
   "execution_count": 15,
   "metadata": {
    "id": "F6lhKtLRsUQY"
   },
   "outputs": [],
   "source": [
    "BUFFER_SIZE = 20000\n",
    "BATCH_SIZE = 32"
   ]
  },
  {
   "cell_type": "code",
   "execution_count": 16,
   "metadata": {
    "id": "XXWZk_SeIOHh"
   },
   "outputs": [],
   "source": [
    "def make_batches(ds):\n",
    "    return (\n",
    "        ds\n",
    "        .cache()\n",
    "        .shuffle(BUFFER_SIZE)\n",
    "        .batch(BATCH_SIZE)\n",
    "        .map(tokenize_pairs, num_parallel_calls=tf.data.AUTOTUNE)\n",
    "        .prefetch(tf.data.AUTOTUNE))\n",
    "\n",
    "train_batches = make_batches(train_examples)\n",
    "validation_batches = make_batches(validation_examples)\n",
    "test_batches = make_batches(test_examples)"
   ]
  },
  {
   "cell_type": "code",
   "execution_count": 17,
   "metadata": {
    "id": "Rt-8dD25ClEZ"
   },
   "outputs": [],
   "source": [
    "def get_angles(pos, i, d_model):\n",
    "  angle_rates = 1 / np.power(10000, (2 * (i//2)) / np.float32(d_model))\n",
    "  return pos * angle_rates"
   ]
  },
  {
   "cell_type": "code",
   "execution_count": 18,
   "metadata": {
    "id": "Lps8pZRaC0Ua"
   },
   "outputs": [],
   "source": [
    "def positional_encoding(position, d_model):\n",
    "  angle_rads = get_angles(np.arange(position)[:, np.newaxis], np.arange(d_model)[np.newaxis, :], d_model)\n",
    "\n",
    "  # dùng hàm sin cho vị trí chẵn\n",
    "  angle_rads[:, 0::2] = np.sin(angle_rads[:, 0::2])\n",
    "\n",
    "  # dùng hàm cos cho vị trí lẻ\n",
    "  angle_rads[:, 1::2] = np.cos(angle_rads[:, 1::2])\n",
    "\n",
    "  pos_encoding = angle_rads[np.newaxis, ...]\n",
    "\n",
    "  return tf.cast(pos_encoding, dtype=tf.float32)"
   ]
  },
  {
   "cell_type": "code",
   "execution_count": 19,
   "metadata": {
    "id": "-zpp84U4C5AB"
   },
   "outputs": [],
   "source": [
    "# hàm tạo mask cho câu\n",
    "def create_padding_mask(seq):\n",
    "  seq = tf.cast(tf.math.equal(seq, 0), tf.float32)\n",
    "\n",
    "  return seq[:, tf.newaxis, tf.newaxis, :]  # (batch_size, 1, 1, seq_len)"
   ]
  },
  {
   "cell_type": "code",
   "execution_count": 20,
   "metadata": {
    "id": "BOvduMJYC8xj"
   },
   "outputs": [],
   "source": [
    "# hàm tạo mask để che đi phần chưa được dịch đến\n",
    "def create_look_ahead_mask(size):\n",
    "  mask = 1 - tf.linalg.band_part(tf.ones((size, size)), -1, 0)\n",
    "  return mask  # (seq_len, seq_len)"
   ]
  },
  {
   "cell_type": "code",
   "execution_count": 21,
   "metadata": {
    "id": "-BdNmUFrDAzx"
   },
   "outputs": [],
   "source": [
    "def scaled_dot_product_attention(q, k, v, mask):\n",
    "  # tính trọng số attention\n",
    "  # đầu vào bao gồm q(query), k(key), v(value)\n",
    "  # tính toán theo công thức\n",
    "  \n",
    "  \"\"\"\n",
    "  Các tham số\n",
    "    q: query shape == (..., seq_len_q, depth)\n",
    "    k: key shape == (..., seq_len_k, depth)\n",
    "    v: value shape == (..., seq_len_v, depth_v)\n",
    "    mask: (..., seq_len_q, seq_len_k). Mặc định là None.\n",
    "  \"\"\"\n",
    "\n",
    "  # nhân q với k\n",
    "  matmul_qk = tf.matmul(q, k, transpose_b=True)  # (..., seq_len_q, seq_len_k)\n",
    "\n",
    "  # chia cho sqrt(d_k)\n",
    "  dk = tf.cast(tf.shape(k)[-1], tf.float32)\n",
    "  scaled_attention_logits = matmul_qk / tf.math.sqrt(dk)\n",
    "\n",
    "  # thêm mask nếu có\n",
    "  if mask is not None:\n",
    "    scaled_attention_logits += (mask * -1e9)\n",
    "\n",
    "  # dùng hàm softmax để chuẩn hóa về dạng xác suất\n",
    "  attention_weights = tf.nn.softmax(scaled_attention_logits, axis=-1)  # (..., seq_len_q, seq_len_k)\n",
    "\n",
    "  output = tf.matmul(attention_weights, v)  # (..., seq_len_q, depth_v)\n",
    "\n",
    "  return output, attention_weights"
   ]
  },
  {
   "cell_type": "code",
   "execution_count": 22,
   "metadata": {
    "id": "ExN9hgnqDZ6z"
   },
   "outputs": [],
   "source": [
    "class MultiHeadAttention(tf.keras.layers.Layer):\n",
    "  def __init__(self, d_model, num_heads):\n",
    "    super(MultiHeadAttention, self).__init__()\n",
    "    self.num_heads = num_heads\n",
    "    self.d_model = d_model\n",
    "\n",
    "    assert d_model % self.num_heads == 0\n",
    "\n",
    "    self.depth = d_model // self.num_heads\n",
    "\n",
    "    self.wq = tf.keras.layers.Dense(d_model)\n",
    "    self.wk = tf.keras.layers.Dense(d_model)\n",
    "    self.wv = tf.keras.layers.Dense(d_model)\n",
    "\n",
    "    self.dense = tf.keras.layers.Dense(d_model)\n",
    "\n",
    "  def split_heads(self, x, batch_size):\n",
    "    # chia d_model thành các head, mỗi head có số chiều là depth\n",
    "    # chuyển tensor theo shape là (batch_size, num_heads, seq_len, depth)\n",
    "    x = tf.reshape(x, (batch_size, -1, self.num_heads, self.depth))\n",
    "    return tf.transpose(x, perm=[0, 2, 1, 3])\n",
    "\n",
    "  def call(self, v, k, q, mask):\n",
    "    batch_size = tf.shape(q)[0]\n",
    "\n",
    "    q = self.wq(q)  # (batch_size, seq_len, d_model)\n",
    "    k = self.wk(k)  # (batch_size, seq_len, d_model)\n",
    "    v = self.wv(v)  # (batch_size, seq_len, d_model)\n",
    "\n",
    "    q = self.split_heads(q, batch_size)  # (batch_size, num_heads, seq_len_q, depth)\n",
    "    k = self.split_heads(k, batch_size)  # (batch_size, num_heads, seq_len_k, depth)\n",
    "    v = self.split_heads(v, batch_size)  # (batch_size, num_heads, seq_len_v, depth)\n",
    "\n",
    "    # scaled_attention.shape == (batch_size, num_heads, seq_len_q, depth)\n",
    "    # attention_weights.shape == (batch_size, num_heads, seq_len_q, seq_len_k)\n",
    "    scaled_attention, attention_weights = scaled_dot_product_attention(q, k, v, mask)\n",
    "\n",
    "    scaled_attention = tf.transpose(scaled_attention, perm=[0, 2, 1, 3])  # (batch_size, seq_len_q, num_heads, depth)\n",
    "\n",
    "    concat_attention = tf.reshape(scaled_attention,\n",
    "                                  (batch_size, -1, self.d_model))  # (batch_size, seq_len_q, d_model)\n",
    "\n",
    "    output = self.dense(concat_attention)  # (batch_size, seq_len_q, d_model)\n",
    "\n",
    "    return output, attention_weights"
   ]
  },
  {
   "cell_type": "code",
   "execution_count": 23,
   "metadata": {
    "id": "on26pLaYDd34"
   },
   "outputs": [],
   "source": [
    "# fully connected neural network\n",
    "def point_wise_feed_forward_network(d_model, dff):\n",
    "  return tf.keras.Sequential([\n",
    "      tf.keras.layers.Dense(dff, activation='relu'),  # (batch_size, seq_len, dff)\n",
    "      tf.keras.layers.Dense(d_model)  # (batch_size, seq_len, d_model)\n",
    "  ])"
   ]
  },
  {
   "cell_type": "code",
   "execution_count": 24,
   "metadata": {
    "id": "yvUl9TudDi0m"
   },
   "outputs": [],
   "source": [
    "class EncoderLayer(tf.keras.layers.Layer):\n",
    "  def __init__(self, d_model, num_heads, dff, rate=0.1):\n",
    "    super(EncoderLayer, self).__init__()\n",
    "\n",
    "    self.mha = MultiHeadAttention(d_model, num_heads)\n",
    "    self.ffn = point_wise_feed_forward_network(d_model, dff)\n",
    "\n",
    "    self.layernorm1 = tf.keras.layers.LayerNormalization(epsilon=1e-6)\n",
    "    self.layernorm2 = tf.keras.layers.LayerNormalization(epsilon=1e-6)\n",
    "\n",
    "    self.dropout1 = tf.keras.layers.Dropout(rate)\n",
    "    self.dropout2 = tf.keras.layers.Dropout(rate)\n",
    "\n",
    "  def call(self, x, training, mask):\n",
    "\n",
    "    attn_output, _ = self.mha(x, x, x, mask)  # (batch_size, input_seq_len, d_model)\n",
    "    attn_output = self.dropout1(attn_output, training=training)\n",
    "    out1 = self.layernorm1(x + attn_output)  # (batch_size, input_seq_len, d_model)\n",
    "\n",
    "    ffn_output = self.ffn(out1)  # (batch_size, input_seq_len, d_model)\n",
    "    ffn_output = self.dropout2(ffn_output, training=training)\n",
    "    out2 = self.layernorm2(out1 + ffn_output)  # (batch_size, input_seq_len, d_model)\n",
    "\n",
    "    return out2"
   ]
  },
  {
   "cell_type": "code",
   "execution_count": 25,
   "metadata": {
    "id": "xRAzl7MoDnvL"
   },
   "outputs": [],
   "source": [
    "class DecoderLayer(tf.keras.layers.Layer):\n",
    "  def __init__(self, d_model, num_heads, dff, rate=0.1):\n",
    "    super(DecoderLayer, self).__init__()\n",
    "\n",
    "    self.mha1 = MultiHeadAttention(d_model, num_heads)\n",
    "    self.mha2 = MultiHeadAttention(d_model, num_heads)\n",
    "\n",
    "    self.ffn = point_wise_feed_forward_network(d_model, dff)\n",
    "\n",
    "    self.layernorm1 = tf.keras.layers.LayerNormalization(epsilon=1e-6)\n",
    "    self.layernorm2 = tf.keras.layers.LayerNormalization(epsilon=1e-6)\n",
    "    self.layernorm3 = tf.keras.layers.LayerNormalization(epsilon=1e-6)\n",
    "\n",
    "    self.dropout1 = tf.keras.layers.Dropout(rate)\n",
    "    self.dropout2 = tf.keras.layers.Dropout(rate)\n",
    "    self.dropout3 = tf.keras.layers.Dropout(rate)\n",
    "\n",
    "  def call(self, x, enc_output, training,\n",
    "           look_ahead_mask, padding_mask):\n",
    "    # enc_output.shape == (batch_size, input_seq_len, d_model)\n",
    "\n",
    "    attn1, attn_weights_block1 = self.mha1(x, x, x, look_ahead_mask)  # (batch_size, target_seq_len, d_model)\n",
    "    attn1 = self.dropout1(attn1, training=training)\n",
    "    out1 = self.layernorm1(attn1 + x)\n",
    "\n",
    "    attn2, attn_weights_block2 = self.mha2(\n",
    "        enc_output, enc_output, out1, padding_mask)  # (batch_size, target_seq_len, d_model)\n",
    "    attn2 = self.dropout2(attn2, training=training)\n",
    "    out2 = self.layernorm2(attn2 + out1)  # (batch_size, target_seq_len, d_model)\n",
    "\n",
    "    ffn_output = self.ffn(out2)  # (batch_size, target_seq_len, d_model)\n",
    "    ffn_output = self.dropout3(ffn_output, training=training)\n",
    "    out3 = self.layernorm3(ffn_output + out2)  # (batch_size, target_seq_len, d_model)\n",
    "\n",
    "    return out3, attn_weights_block1, attn_weights_block2"
   ]
  },
  {
   "cell_type": "code",
   "execution_count": 26,
   "metadata": {
    "id": "CIzcNOgUDsS_"
   },
   "outputs": [],
   "source": [
    "class Encoder(tf.keras.layers.Layer):\n",
    "  def __init__(self, num_layers, d_model, num_heads, dff, input_vocab_size,\n",
    "               maximum_position_encoding, rate=0.1):\n",
    "    super(Encoder, self).__init__()\n",
    "\n",
    "    self.d_model = d_model\n",
    "    self.num_layers = num_layers\n",
    "\n",
    "    self.embedding = tf.keras.layers.Embedding(input_vocab_size, d_model)\n",
    "    self.pos_encoding = positional_encoding(maximum_position_encoding, self.d_model)\n",
    "\n",
    "    self.enc_layers = [EncoderLayer(d_model, num_heads, dff, rate)\n",
    "                       for _ in range(num_layers)]\n",
    "\n",
    "    self.dropout = tf.keras.layers.Dropout(rate)\n",
    "\n",
    "  def call(self, x, training, mask):\n",
    "\n",
    "    seq_len = tf.shape(x)[1]\n",
    "\n",
    "    # embedding đầu vào và thực hiện positional encoding\n",
    "    x = self.embedding(x)  # (batch_size, input_seq_len, d_model)\n",
    "    x *= tf.math.sqrt(tf.cast(self.d_model, tf.float32))\n",
    "    x += self.pos_encoding[:, :seq_len, :]\n",
    "\n",
    "    x = self.dropout(x, training=training)\n",
    "\n",
    "    for i in range(self.num_layers):\n",
    "      x = self.enc_layers[i](x, training, mask)\n",
    "\n",
    "    return x  # (batch_size, input_seq_len, d_model)"
   ]
  },
  {
   "cell_type": "code",
   "execution_count": 27,
   "metadata": {
    "id": "6EeZKM0rDwMz"
   },
   "outputs": [],
   "source": [
    "class Decoder(tf.keras.layers.Layer):\n",
    "  def __init__(self, num_layers, d_model, num_heads, dff, target_vocab_size,\n",
    "               maximum_position_encoding, rate=0.1):\n",
    "    super(Decoder, self).__init__()\n",
    "\n",
    "    self.d_model = d_model\n",
    "    self.num_layers = num_layers\n",
    "\n",
    "    self.embedding = tf.keras.layers.Embedding(target_vocab_size, d_model)\n",
    "    self.pos_encoding = positional_encoding(maximum_position_encoding, d_model)\n",
    "\n",
    "    self.dec_layers = [DecoderLayer(d_model, num_heads, dff, rate)\n",
    "                       for _ in range(num_layers)]\n",
    "    self.dropout = tf.keras.layers.Dropout(rate)\n",
    "\n",
    "  def call(self, x, enc_output, training,\n",
    "           look_ahead_mask, padding_mask):\n",
    "\n",
    "    seq_len = tf.shape(x)[1]\n",
    "    attention_weights = {}\n",
    "\n",
    "    x = self.embedding(x)  # (batch_size, target_seq_len, d_model)\n",
    "    x *= tf.math.sqrt(tf.cast(self.d_model, tf.float32))\n",
    "    x += self.pos_encoding[:, :seq_len, :]\n",
    "\n",
    "    x = self.dropout(x, training=training)\n",
    "\n",
    "    for i in range(self.num_layers):\n",
    "      x, block1, block2 = self.dec_layers[i](x, enc_output, training,\n",
    "                                             look_ahead_mask, padding_mask)\n",
    "\n",
    "      attention_weights[f'decoder_layer{i+1}_block1'] = block1\n",
    "      attention_weights[f'decoder_layer{i+1}_block2'] = block2\n",
    "\n",
    "    # x.shape == (batch_size, target_seq_len, d_model)\n",
    "    return x, attention_weights"
   ]
  },
  {
   "cell_type": "code",
   "execution_count": 28,
   "metadata": {
    "id": "Rx7m8QY7D1P1"
   },
   "outputs": [],
   "source": [
    "class Transformer(tf.keras.Model):\n",
    "  def __init__(self, num_layers, d_model, num_heads, dff, input_vocab_size,\n",
    "               target_vocab_size, pe_input, pe_target, rate=0.1):\n",
    "    super(Transformer, self).__init__()\n",
    "\n",
    "    self.tokenizer = Encoder(num_layers, d_model, num_heads, dff,\n",
    "                             input_vocab_size, pe_input, rate)\n",
    "\n",
    "    self.decoder = Decoder(num_layers, d_model, num_heads, dff,\n",
    "                           target_vocab_size, pe_target, rate)\n",
    "\n",
    "    self.final_layer = tf.keras.layers.Dense(target_vocab_size)\n",
    "\n",
    "  def call(self, inp, tar, training, enc_padding_mask,\n",
    "           look_ahead_mask, dec_padding_mask):\n",
    "\n",
    "    enc_output = self.tokenizer(inp, training, enc_padding_mask)  # (batch_size, inp_seq_len, d_model)\n",
    "\n",
    "    # dec_output.shape == (batch_size, tar_seq_len, d_model)\n",
    "    dec_output, attention_weights = self.decoder(\n",
    "        tar, enc_output, training, look_ahead_mask, dec_padding_mask)\n",
    "\n",
    "    final_output = self.final_layer(dec_output)  # (batch_size, tar_seq_len, target_vocab_size)\n",
    "\n",
    "    return final_output, attention_weights"
   ]
  },
  {
   "cell_type": "code",
   "execution_count": 29,
   "metadata": {
    "id": "gtMWUOe_D5k_"
   },
   "outputs": [],
   "source": [
    "num_layers = 4\n",
    "d_model = 256\n",
    "dff = 1024\n",
    "num_heads = 4\n",
    "dropout_rate = 0.1"
   ]
  },
  {
   "cell_type": "code",
   "execution_count": 30,
   "metadata": {
    "id": "qolvwMTtD72O"
   },
   "outputs": [],
   "source": [
    "class CustomSchedule(tf.keras.optimizers.schedules.LearningRateSchedule):\n",
    "  def __init__(self, d_model, warmup_steps=30000):\n",
    "    super(CustomSchedule, self).__init__()\n",
    "\n",
    "    self.d_model = d_model\n",
    "    self.d_model = tf.cast(self.d_model, tf.float32)\n",
    "\n",
    "    self.warmup_steps = warmup_steps\n",
    "\n",
    "  def __call__(self, step):\n",
    "    arg1 = tf.math.rsqrt(step)\n",
    "    arg2 = step * (self.warmup_steps ** -1.5)\n",
    "\n",
    "    return tf.math.rsqrt(self.d_model) * tf.math.minimum(arg1, arg2)"
   ]
  },
  {
   "cell_type": "code",
   "execution_count": 31,
   "metadata": {
    "id": "qmYVhGI5D8qb"
   },
   "outputs": [],
   "source": [
    "learning_rate = CustomSchedule(d_model)\n",
    "\n",
    "optimizer = tf.keras.optimizers.Adam(learning_rate, beta_1=0.9, beta_2=0.98,\n",
    "                                     epsilon=1e-9)"
   ]
  },
  {
   "cell_type": "code",
   "execution_count": 32,
   "metadata": {
    "colab": {
     "base_uri": "https://localhost:8080/",
     "height": 297
    },
    "id": "fDMsCm1xD-Sx",
    "outputId": "c9c6d1dc-562d-47d0-dcd1-d182b4b373f7"
   },
   "outputs": [
    {
     "data": {
      "text/plain": [
       "Text(0.5, 0, 'Train Step')"
      ]
     },
     "execution_count": 32,
     "metadata": {
      "tags": []
     },
     "output_type": "execute_result"
    },
    {
     "data": {
      "image/png": "[encoded data removed]",
      "text/plain": [
       "<Figure size 432x288 with 1 Axes>"
      ]
     },
     "metadata": {
      "needs_background": "light",
      "tags": []
     },
     "output_type": "display_data"
    }
   ],
   "source": [
    "temp_learning_rate_schedule = CustomSchedule(d_model)\n",
    "\n",
    "plt.plot(temp_learning_rate_schedule(tf.range(80000, dtype=tf.float32)))\n",
    "plt.ylabel(\"Learning Rate\")\n",
    "plt.xlabel(\"Train Step\")"
   ]
  },
  {
   "cell_type": "code",
   "execution_count": 33,
   "metadata": {
    "id": "Sv_PpN0NEBuf"
   },
   "outputs": [],
   "source": [
    "loss_object = tf.keras.losses.CategoricalCrossentropy(\n",
    "    from_logits=True, label_smoothing=0.1, reduction='none')"
   ]
  },
  {
   "cell_type": "code",
   "execution_count": 34,
   "metadata": {
    "id": "ClXDQkJ9EDqe"
   },
   "outputs": [],
   "source": [
    "def loss_function(real, pred):\n",
    "  mask = tf.math.logical_not(tf.math.equal(real, 0))\n",
    "  real_ = tf.one_hot(tf.cast(real, tf.int64), tokenizers.vi.get_vocab_size())\n",
    "\n",
    "  loss_ = loss_object(real_, pred)\n",
    "\n",
    "  mask = tf.cast(mask, dtype=loss_.dtype)\n",
    "  loss_ *= mask\n",
    "\n",
    "  return tf.reduce_sum(loss_)/tf.reduce_sum(mask)\n",
    "\n",
    "def accuracy_function(real, pred):\n",
    "  accuracies = tf.equal(real, tf.argmax(pred, axis=2))\n",
    "\n",
    "  mask = tf.math.logical_not(tf.math.equal(real, 0))\n",
    "  accuracies = tf.math.logical_and(mask, accuracies)\n",
    "\n",
    "  accuracies = tf.cast(accuracies, dtype=tf.float32)\n",
    "  mask = tf.cast(mask, dtype=tf.float32)\n",
    "  return tf.reduce_sum(accuracies)/tf.reduce_sum(mask)"
   ]
  },
  {
   "cell_type": "code",
   "execution_count": 35,
   "metadata": {
    "id": "9VopW9uaEEWf"
   },
   "outputs": [],
   "source": [
    "train_loss = tf.keras.metrics.Mean(name='train_loss')\n",
    "train_accuracy = tf.keras.metrics.Mean(name='train_accuracy')\n",
    "\n",
    "validation_loss = tf.keras.metrics.Mean(name='validation_loss')\n",
    "validation_accuracy = tf.keras.metrics.Mean(name='validation_accuracy')"
   ]
  },
  {
   "cell_type": "code",
   "execution_count": 36,
   "metadata": {
    "id": "9iOcJJBmEHgJ"
   },
   "outputs": [],
   "source": [
    "transformer = Transformer(\n",
    "    num_layers=num_layers,\n",
    "    d_model=d_model,\n",
    "    num_heads=num_heads,\n",
    "    dff=dff,\n",
    "    input_vocab_size=tokenizers.en.get_vocab_size(),\n",
    "    target_vocab_size=tokenizers.vi.get_vocab_size(),\n",
    "    pe_input=1000,\n",
    "    pe_target=1000,\n",
    "    rate=dropout_rate)"
   ]
  },
  {
   "cell_type": "code",
   "execution_count": 37,
   "metadata": {
    "id": "YMq3YJ1FEJgz"
   },
   "outputs": [],
   "source": [
    "def create_masks(inp, tar):\n",
    "  # Tạo padding mask cho encoder\n",
    "  enc_padding_mask = create_padding_mask(inp)\n",
    "\n",
    "  # Dùng trong tầng attention thứ hai trong decoder\n",
    "  # Mask này để che đi output của encoder\n",
    "  dec_padding_mask = create_padding_mask(inp)\n",
    "\n",
    "  # Tạo mask cho tầng attention thứ nhất của decoder\n",
    "  # Dùng để padding và che các từ chưa được dịch từ đầu vào của decoder\n",
    "  look_ahead_mask = create_look_ahead_mask(tf.shape(tar)[1])\n",
    "  dec_target_padding_mask = create_padding_mask(tar)\n",
    "  combined_mask = tf.maximum(dec_target_padding_mask, look_ahead_mask)\n",
    "\n",
    "  return enc_padding_mask, combined_mask, dec_padding_mask"
   ]
  },
  {
   "cell_type": "code",
   "execution_count": 38,
   "metadata": {
    "id": "egyYBrmFELrQ"
   },
   "outputs": [],
   "source": [
    "checkpoint_path = \"./checkpoints/train\"\n",
    "\n",
    "ckpt = tf.train.Checkpoint(transformer=transformer,\n",
    "                           optimizer=optimizer)\n",
    "\n",
    "ckpt_manager = tf.train.CheckpointManager(ckpt, checkpoint_path, max_to_keep=10)\n",
    "\n",
    "if ckpt_manager.latest_checkpoint:\n",
    "  ckpt.restore(ckpt_manager.latest_checkpoint)\n",
    "  print('Latest checkpoint restored!!')"
   ]
  },
  {
   "cell_type": "code",
   "execution_count": 39,
   "metadata": {
    "id": "tmA2v2V-ENlK"
   },
   "outputs": [],
   "source": [
    "EPOCHS = 25"
   ]
  },
  {
   "cell_type": "code",
   "execution_count": 40,
   "metadata": {
    "id": "Pb_bPEnWEQTt"
   },
   "outputs": [],
   "source": [
    "train_step_signature = [\n",
    "    tf.TensorSpec(shape=(None, None), dtype=tf.int64),\n",
    "    tf.TensorSpec(shape=(None, None), dtype=tf.int64),\n",
    "]\n",
    "\n",
    "\n",
    "@tf.function(input_signature=train_step_signature)\n",
    "def train_step(inp, tar):\n",
    "  tar_inp = tar[:, :-1] # đầu vào cho decoder\n",
    "  tar_real = tar[:, 1:] # đầu ra cho mô hình\n",
    "\n",
    "  enc_padding_mask, combined_mask, dec_padding_mask = create_masks(inp, tar_inp)\n",
    "\n",
    "  with tf.GradientTape() as tape:\n",
    "    predictions, _ = transformer(inp, tar_inp,\n",
    "                                 True,\n",
    "                                 enc_padding_mask,\n",
    "                                 combined_mask,\n",
    "                                 dec_padding_mask)\n",
    "    # tính lỗi\n",
    "    loss = loss_function(tar_real, predictions)\n",
    "  \n",
    "    \n",
    "  gradients = tape.gradient(loss, transformer.trainable_variables)\n",
    "  optimizer.apply_gradients(zip(gradients, transformer.trainable_variables))\n",
    "\n",
    "  train_loss(loss)\n",
    "  train_accuracy(accuracy_function(tar_real, predictions))\n",
    "  "
   ]
  },
  {
   "cell_type": "code",
   "execution_count": 41,
   "metadata": {
    "colab": {
     "base_uri": "https://localhost:8080/"
    },
    "id": "nqEKQF7lETEW",
    "outputId": "31f289e9-dc7a-4cdf-a30b-da33e96a3489"
   },
   "outputs": [
    {
     "name": "stdout",
     "output_type": "stream",
     "text": [
      "Epoch 1 Batch 0 Loss 8.4041 Accuracy 0.0000\n",
      "Epoch 1 Batch 200 Loss 8.2995 Accuracy 0.0156\n",
      "Epoch 1 Batch 400 Loss 8.1519 Accuracy 0.0264\n",
      "Epoch 1 Batch 600 Loss 8.0186 Accuracy 0.0309\n",
      "Epoch 1 Batch 800 Loss 7.8771 Accuracy 0.0346\n",
      "Epoch 1 Batch 1000 Loss 7.7215 Accuracy 0.0406\n",
      "Epoch 1 Batch 1200 Loss 7.5652 Accuracy 0.0474\n",
      "Epoch 1 Batch 1400 Loss 7.4244 Accuracy 0.0539\n",
      "Epoch 1 Batch 1600 Loss 7.3062 Accuracy 0.0596\n",
      "Epoch 1 Batch 1800 Loss 7.2075 Accuracy 0.0653\n",
      "Epoch 1 Batch 2000 Loss 7.1226 Accuracy 0.0709\n",
      "Epoch 1 Batch 2200 Loss 7.0454 Accuracy 0.0764\n",
      "Saving checkpoint for epoch 1 at ./checkpoints/train/ckpt-1\n",
      "Epoch 1 Loss 7.0060 Accuracy 0.0794\n",
      "Validation loss: 6.2116 Validation accuracy 0.1388\n",
      "Time taken for 1 epoch: 269.47 secs\n",
      "\n",
      "Epoch 2 Batch 0 Loss 6.3748 Accuracy 0.1323\n",
      "Epoch 2 Batch 200 Loss 6.1839 Accuracy 0.1422\n",
      "Epoch 2 Batch 400 Loss 6.1485 Accuracy 0.1459\n",
      "Epoch 2 Batch 600 Loss 6.1035 Accuracy 0.1501\n",
      "Epoch 2 Batch 800 Loss 6.0661 Accuracy 0.1538\n",
      "Epoch 2 Batch 1000 Loss 6.0321 Accuracy 0.1572\n",
      "Epoch 2 Batch 1200 Loss 5.9982 Accuracy 0.1606\n",
      "Epoch 2 Batch 1400 Loss 5.9648 Accuracy 0.1641\n",
      "Epoch 2 Batch 1600 Loss 5.9333 Accuracy 0.1673\n",
      "Epoch 2 Batch 1800 Loss 5.9015 Accuracy 0.1709\n",
      "Epoch 2 Batch 2000 Loss 5.8672 Accuracy 0.1748\n",
      "Epoch 2 Batch 2200 Loss 5.8345 Accuracy 0.1786\n",
      "Saving checkpoint for epoch 2 at ./checkpoints/train/ckpt-2\n",
      "Epoch 2 Loss 5.8172 Accuracy 0.1806\n",
      "Validation loss: 5.4643 Validation accuracy 0.2182\n",
      "Time taken for 1 epoch: 255.81 secs\n",
      "\n",
      "Epoch 3 Batch 0 Loss 5.5147 Accuracy 0.2329\n",
      "Epoch 3 Batch 200 Loss 5.4429 Accuracy 0.2228\n",
      "Epoch 3 Batch 400 Loss 5.4040 Accuracy 0.2281\n",
      "Epoch 3 Batch 600 Loss 5.3756 Accuracy 0.2316\n",
      "Epoch 3 Batch 800 Loss 5.3502 Accuracy 0.2343\n",
      "Epoch 3 Batch 1000 Loss 5.3288 Accuracy 0.2366\n",
      "Epoch 3 Batch 1200 Loss 5.3108 Accuracy 0.2386\n",
      "Epoch 3 Batch 1400 Loss 5.2912 Accuracy 0.2405\n",
      "Epoch 3 Batch 1600 Loss 5.2719 Accuracy 0.2425\n",
      "Epoch 3 Batch 1800 Loss 5.2508 Accuracy 0.2450\n",
      "Epoch 3 Batch 2000 Loss 5.2293 Accuracy 0.2475\n",
      "Epoch 3 Batch 2200 Loss 5.2080 Accuracy 0.2499\n",
      "Saving checkpoint for epoch 3 at ./checkpoints/train/ckpt-3\n",
      "Epoch 3 Loss 5.1957 Accuracy 0.2514\n",
      "Validation loss: 4.9968 Validation accuracy 0.2706\n",
      "Time taken for 1 epoch: 248.48 secs\n",
      "\n",
      "Epoch 4 Batch 0 Loss 4.8279 Accuracy 0.2898\n",
      "Epoch 4 Batch 200 Loss 4.9563 Accuracy 0.2786\n",
      "Epoch 4 Batch 400 Loss 4.9294 Accuracy 0.2819\n",
      "Epoch 4 Batch 600 Loss 4.9069 Accuracy 0.2849\n",
      "Epoch 4 Batch 800 Loss 4.8858 Accuracy 0.2881\n",
      "Epoch 4 Batch 1000 Loss 4.8682 Accuracy 0.2907\n",
      "Epoch 4 Batch 1200 Loss 4.8493 Accuracy 0.2933\n",
      "Epoch 4 Batch 1400 Loss 4.8332 Accuracy 0.2955\n",
      "Epoch 4 Batch 1600 Loss 4.8151 Accuracy 0.2978\n",
      "Epoch 4 Batch 1800 Loss 4.7967 Accuracy 0.3003\n",
      "Epoch 4 Batch 2000 Loss 4.7801 Accuracy 0.3025\n",
      "Epoch 4 Batch 2200 Loss 4.7633 Accuracy 0.3048\n",
      "Saving checkpoint for epoch 4 at ./checkpoints/train/ckpt-4\n",
      "Epoch 4 Loss 4.7550 Accuracy 0.3060\n",
      "Validation loss: 4.6435 Validation accuracy 0.3218\n",
      "Time taken for 1 epoch: 250.22 secs\n",
      "\n",
      "Epoch 5 Batch 0 Loss 4.5480 Accuracy 0.3303\n",
      "Epoch 5 Batch 200 Loss 4.5689 Accuracy 0.3311\n",
      "Epoch 5 Batch 400 Loss 4.5410 Accuracy 0.3347\n",
      "Epoch 5 Batch 600 Loss 4.5151 Accuracy 0.3384\n",
      "Epoch 5 Batch 800 Loss 4.5009 Accuracy 0.3405\n",
      "Epoch 5 Batch 1000 Loss 4.4872 Accuracy 0.3428\n",
      "Epoch 5 Batch 1200 Loss 4.4719 Accuracy 0.3449\n",
      "Epoch 5 Batch 1400 Loss 4.4597 Accuracy 0.3465\n",
      "Epoch 5 Batch 1600 Loss 4.4463 Accuracy 0.3486\n",
      "Epoch 5 Batch 1800 Loss 4.4331 Accuracy 0.3506\n",
      "Epoch 5 Batch 2000 Loss 4.4205 Accuracy 0.3524\n",
      "Epoch 5 Batch 2200 Loss 4.4089 Accuracy 0.3543\n",
      "Saving checkpoint for epoch 5 at ./checkpoints/train/ckpt-5\n",
      "Epoch 5 Loss 4.4015 Accuracy 0.3554\n",
      "Validation loss: 4.3736 Validation accuracy 0.3618\n",
      "Time taken for 1 epoch: 246.84 secs\n",
      "\n",
      "Epoch 6 Batch 0 Loss 4.2825 Accuracy 0.3808\n",
      "Epoch 6 Batch 200 Loss 4.2466 Accuracy 0.3777\n",
      "Epoch 6 Batch 400 Loss 4.2214 Accuracy 0.3813\n",
      "Epoch 6 Batch 600 Loss 4.1943 Accuracy 0.3849\n",
      "Epoch 6 Batch 800 Loss 4.1852 Accuracy 0.3874\n",
      "Epoch 6 Batch 1000 Loss 4.1708 Accuracy 0.3901\n",
      "Epoch 6 Batch 1200 Loss 4.1629 Accuracy 0.3915\n",
      "Epoch 6 Batch 1400 Loss 4.1538 Accuracy 0.3929\n",
      "Epoch 6 Batch 1600 Loss 4.1456 Accuracy 0.3943\n",
      "Epoch 6 Batch 1800 Loss 4.1368 Accuracy 0.3959\n",
      "Epoch 6 Batch 2000 Loss 4.1241 Accuracy 0.3981\n",
      "Epoch 6 Batch 2200 Loss 4.1117 Accuracy 0.4001\n",
      "Saving checkpoint for epoch 6 at ./checkpoints/train/ckpt-6\n",
      "Epoch 6 Loss 4.1071 Accuracy 0.4008\n",
      "Validation loss: 4.1492 Validation accuracy 0.3984\n",
      "Time taken for 1 epoch: 250.58 secs\n",
      "\n",
      "Epoch 7 Batch 0 Loss 3.8752 Accuracy 0.4211\n",
      "Epoch 7 Batch 200 Loss 3.9529 Accuracy 0.4230\n",
      "Epoch 7 Batch 400 Loss 3.9488 Accuracy 0.4242\n",
      "Epoch 7 Batch 600 Loss 3.9319 Accuracy 0.4272\n",
      "Epoch 7 Batch 800 Loss 3.9194 Accuracy 0.4294\n",
      "Epoch 7 Batch 1000 Loss 3.9108 Accuracy 0.4313\n",
      "Epoch 7 Batch 1200 Loss 3.9014 Accuracy 0.4331\n",
      "Epoch 7 Batch 1400 Loss 3.8936 Accuracy 0.4345\n",
      "Epoch 7 Batch 1600 Loss 3.8858 Accuracy 0.4360\n",
      "Epoch 7 Batch 1800 Loss 3.8776 Accuracy 0.4374\n",
      "Epoch 7 Batch 2000 Loss 3.8670 Accuracy 0.4393\n",
      "Epoch 7 Batch 2200 Loss 3.8600 Accuracy 0.4405\n",
      "Saving checkpoint for epoch 7 at ./checkpoints/train/ckpt-7\n",
      "Epoch 7 Loss 3.8554 Accuracy 0.4413\n",
      "Validation loss: 3.9800 Validation accuracy 0.4313\n",
      "Time taken for 1 epoch: 249.64 secs\n",
      "\n",
      "Epoch 8 Batch 0 Loss 3.8115 Accuracy 0.4646\n",
      "Epoch 8 Batch 200 Loss 3.7336 Accuracy 0.4590\n",
      "Epoch 8 Batch 400 Loss 3.7139 Accuracy 0.4619\n",
      "Epoch 8 Batch 600 Loss 3.7022 Accuracy 0.4645\n",
      "Epoch 8 Batch 800 Loss 3.6888 Accuracy 0.4673\n",
      "Epoch 8 Batch 1000 Loss 3.6829 Accuracy 0.4687\n",
      "Epoch 8 Batch 1200 Loss 3.6773 Accuracy 0.4695\n",
      "Epoch 8 Batch 1400 Loss 3.6749 Accuracy 0.4699\n",
      "Epoch 8 Batch 1600 Loss 3.6731 Accuracy 0.4703\n",
      "Epoch 8 Batch 1800 Loss 3.6687 Accuracy 0.4712\n",
      "Epoch 8 Batch 2000 Loss 3.6613 Accuracy 0.4727\n",
      "Epoch 8 Batch 2200 Loss 3.6562 Accuracy 0.4735\n",
      "Saving checkpoint for epoch 8 at ./checkpoints/train/ckpt-8\n",
      "Epoch 8 Loss 3.6538 Accuracy 0.4740\n",
      "Validation loss: 3.8544 Validation accuracy 0.4453\n",
      "Time taken for 1 epoch: 250.97 secs\n",
      "\n",
      "Epoch 9 Batch 0 Loss 3.6724 Accuracy 0.4807\n",
      "Epoch 9 Batch 200 Loss 3.5577 Accuracy 0.4904\n",
      "Epoch 9 Batch 400 Loss 3.5438 Accuracy 0.4916\n",
      "Epoch 9 Batch 600 Loss 3.5292 Accuracy 0.4936\n",
      "Epoch 9 Batch 800 Loss 3.5216 Accuracy 0.4949\n",
      "Epoch 9 Batch 1000 Loss 3.5171 Accuracy 0.4956\n",
      "Epoch 9 Batch 1200 Loss 3.5121 Accuracy 0.4967\n",
      "Epoch 9 Batch 1400 Loss 3.5088 Accuracy 0.4974\n",
      "Epoch 9 Batch 1600 Loss 3.5086 Accuracy 0.4974\n",
      "Epoch 9 Batch 1800 Loss 3.5036 Accuracy 0.4985\n",
      "Epoch 9 Batch 2000 Loss 3.4997 Accuracy 0.4992\n",
      "Epoch 9 Batch 2200 Loss 3.4958 Accuracy 0.5000\n",
      "Saving checkpoint for epoch 9 at ./checkpoints/train/ckpt-9\n",
      "Epoch 9 Loss 3.4939 Accuracy 0.5004\n",
      "Validation loss: 3.7319 Validation accuracy 0.4655\n",
      "Time taken for 1 epoch: 251.24 secs\n",
      "\n",
      "Epoch 10 Batch 0 Loss 3.3892 Accuracy 0.5198\n",
      "Epoch 10 Batch 200 Loss 3.4161 Accuracy 0.5111\n",
      "Epoch 10 Batch 400 Loss 3.3969 Accuracy 0.5145\n",
      "Epoch 10 Batch 600 Loss 3.3866 Accuracy 0.5161\n",
      "Epoch 10 Batch 800 Loss 3.3884 Accuracy 0.5160\n",
      "Epoch 10 Batch 1000 Loss 3.3828 Accuracy 0.5173\n",
      "Epoch 10 Batch 1200 Loss 3.3809 Accuracy 0.5175\n",
      "Epoch 10 Batch 1400 Loss 3.3783 Accuracy 0.5181\n",
      "Epoch 10 Batch 1600 Loss 3.3782 Accuracy 0.5184\n",
      "Epoch 10 Batch 1800 Loss 3.3787 Accuracy 0.5185\n",
      "Epoch 10 Batch 2000 Loss 3.3753 Accuracy 0.5193\n",
      "Epoch 10 Batch 2200 Loss 3.3709 Accuracy 0.5202\n",
      "Saving checkpoint for epoch 10 at ./checkpoints/train/ckpt-10\n",
      "Epoch 10 Loss 3.3691 Accuracy 0.5205\n",
      "Validation loss: 3.6762 Validation accuracy 0.4778\n",
      "Time taken for 1 epoch: 252.04 secs\n",
      "\n",
      "Epoch 11 Batch 0 Loss 3.3197 Accuracy 0.5234\n",
      "Epoch 11 Batch 200 Loss 3.2943 Accuracy 0.5298\n",
      "Epoch 11 Batch 400 Loss 3.2802 Accuracy 0.5327\n",
      "Epoch 11 Batch 600 Loss 3.2690 Accuracy 0.5350\n",
      "Epoch 11 Batch 800 Loss 3.2684 Accuracy 0.5354\n",
      "Epoch 11 Batch 1000 Loss 3.2657 Accuracy 0.5362\n",
      "Epoch 11 Batch 1200 Loss 3.2667 Accuracy 0.5364\n",
      "Epoch 11 Batch 1400 Loss 3.2674 Accuracy 0.5365\n",
      "Epoch 11 Batch 1600 Loss 3.2692 Accuracy 0.5363\n",
      "Epoch 11 Batch 1800 Loss 3.2696 Accuracy 0.5364\n",
      "Epoch 11 Batch 2000 Loss 3.2653 Accuracy 0.5373\n",
      "Epoch 11 Batch 2200 Loss 3.2640 Accuracy 0.5377\n",
      "Saving checkpoint for epoch 11 at ./checkpoints/train/ckpt-11\n",
      "Epoch 11 Loss 3.2644 Accuracy 0.5376\n",
      "Validation loss: 3.6248 Validation accuracy 0.4849\n",
      "Time taken for 1 epoch: 252.33 secs\n",
      "\n",
      "Epoch 12 Batch 0 Loss 3.2899 Accuracy 0.5420\n",
      "Epoch 12 Batch 200 Loss 3.2319 Accuracy 0.5389\n",
      "Epoch 12 Batch 400 Loss 3.2066 Accuracy 0.5442\n",
      "Epoch 12 Batch 600 Loss 3.1973 Accuracy 0.5467\n",
      "Epoch 12 Batch 800 Loss 3.1904 Accuracy 0.5482\n",
      "Epoch 12 Batch 1000 Loss 3.1834 Accuracy 0.5499\n",
      "Epoch 12 Batch 1200 Loss 3.1845 Accuracy 0.5498\n",
      "Epoch 12 Batch 1400 Loss 3.1864 Accuracy 0.5497\n",
      "Epoch 12 Batch 1600 Loss 3.1860 Accuracy 0.5497\n",
      "Epoch 12 Batch 1800 Loss 3.1854 Accuracy 0.5499\n",
      "Epoch 12 Batch 2000 Loss 3.1852 Accuracy 0.5501\n",
      "Epoch 12 Batch 2200 Loss 3.1832 Accuracy 0.5506\n",
      "Saving checkpoint for epoch 12 at ./checkpoints/train/ckpt-12\n",
      "Epoch 12 Loss 3.1828 Accuracy 0.5507\n",
      "Validation loss: 3.5923 Validation accuracy 0.4889\n",
      "Time taken for 1 epoch: 251.45 secs\n",
      "\n",
      "Epoch 13 Batch 0 Loss 3.3001 Accuracy 0.5358\n",
      "Epoch 13 Batch 200 Loss 3.1214 Accuracy 0.5579\n",
      "Epoch 13 Batch 400 Loss 3.1180 Accuracy 0.5587\n",
      "Epoch 13 Batch 600 Loss 3.1097 Accuracy 0.5614\n",
      "Epoch 13 Batch 800 Loss 3.1090 Accuracy 0.5616\n",
      "Epoch 13 Batch 1000 Loss 3.1099 Accuracy 0.5617\n",
      "Epoch 13 Batch 1200 Loss 3.1113 Accuracy 0.5617\n",
      "Epoch 13 Batch 1400 Loss 3.1150 Accuracy 0.5610\n",
      "Epoch 13 Batch 1600 Loss 3.1154 Accuracy 0.5611\n",
      "Epoch 13 Batch 1800 Loss 3.1147 Accuracy 0.5614\n",
      "Epoch 13 Batch 2000 Loss 3.1149 Accuracy 0.5616\n",
      "Epoch 13 Batch 2200 Loss 3.1151 Accuracy 0.5618\n",
      "Saving checkpoint for epoch 13 at ./checkpoints/train/ckpt-13\n",
      "Epoch 13 Loss 3.1156 Accuracy 0.5617\n",
      "Validation loss: 3.5487 Validation accuracy 0.4976\n",
      "Time taken for 1 epoch: 248.26 secs\n",
      "\n",
      "Epoch 14 Batch 0 Loss 3.1064 Accuracy 0.5658\n",
      "Epoch 14 Batch 200 Loss 3.0622 Accuracy 0.5693\n",
      "Epoch 14 Batch 400 Loss 3.0443 Accuracy 0.5720\n",
      "Epoch 14 Batch 600 Loss 3.0418 Accuracy 0.5728\n",
      "Epoch 14 Batch 800 Loss 3.0428 Accuracy 0.5730\n",
      "Epoch 14 Batch 1000 Loss 3.0422 Accuracy 0.5733\n",
      "Epoch 14 Batch 1200 Loss 3.0425 Accuracy 0.5732\n",
      "Epoch 14 Batch 1400 Loss 3.0480 Accuracy 0.5724\n",
      "Epoch 14 Batch 1600 Loss 3.0477 Accuracy 0.5724\n",
      "Epoch 14 Batch 1800 Loss 3.0473 Accuracy 0.5728\n",
      "Epoch 14 Batch 2000 Loss 3.0457 Accuracy 0.5733\n",
      "Epoch 14 Batch 2200 Loss 3.0460 Accuracy 0.5733\n",
      "Saving checkpoint for epoch 14 at ./checkpoints/train/ckpt-14\n",
      "Epoch 14 Loss 3.0467 Accuracy 0.5733\n",
      "Validation loss: 3.5052 Validation accuracy 0.5021\n",
      "Time taken for 1 epoch: 247.36 secs\n",
      "\n",
      "Epoch 15 Batch 0 Loss 3.1401 Accuracy 0.5760\n",
      "Epoch 15 Batch 200 Loss 2.9869 Accuracy 0.5815\n",
      "Epoch 15 Batch 400 Loss 2.9713 Accuracy 0.5836\n",
      "Epoch 15 Batch 600 Loss 2.9690 Accuracy 0.5847\n",
      "Epoch 15 Batch 800 Loss 2.9661 Accuracy 0.5857\n",
      "Epoch 15 Batch 1000 Loss 2.9651 Accuracy 0.5863\n",
      "Epoch 15 Batch 1200 Loss 2.9662 Accuracy 0.5861\n",
      "Epoch 15 Batch 1400 Loss 2.9702 Accuracy 0.5855\n",
      "Epoch 15 Batch 1600 Loss 2.9703 Accuracy 0.5857\n",
      "Epoch 15 Batch 1800 Loss 2.9709 Accuracy 0.5856\n",
      "Epoch 15 Batch 2000 Loss 2.9703 Accuracy 0.5859\n",
      "Epoch 15 Batch 2200 Loss 2.9721 Accuracy 0.5856\n",
      "Saving checkpoint for epoch 15 at ./checkpoints/train/ckpt-15\n",
      "Epoch 15 Loss 2.9721 Accuracy 0.5857\n",
      "Validation loss: 3.4875 Validation accuracy 0.5062\n",
      "Time taken for 1 epoch: 246.57 secs\n",
      "\n",
      "Epoch 16 Batch 0 Loss 2.7647 Accuracy 0.6195\n",
      "Epoch 16 Batch 200 Loss 2.9201 Accuracy 0.5924\n",
      "Epoch 16 Batch 400 Loss 2.9066 Accuracy 0.5946\n",
      "Epoch 16 Batch 600 Loss 2.9028 Accuracy 0.5961\n",
      "Epoch 16 Batch 800 Loss 2.8996 Accuracy 0.5968\n",
      "Epoch 16 Batch 1000 Loss 2.9007 Accuracy 0.5970\n",
      "Epoch 16 Batch 1200 Loss 2.9048 Accuracy 0.5963\n",
      "Epoch 16 Batch 1400 Loss 2.9030 Accuracy 0.5968\n",
      "Epoch 16 Batch 1600 Loss 2.9061 Accuracy 0.5962\n",
      "Epoch 16 Batch 1800 Loss 2.9051 Accuracy 0.5966\n",
      "Epoch 16 Batch 2000 Loss 2.9057 Accuracy 0.5965\n",
      "Epoch 16 Batch 2200 Loss 2.9058 Accuracy 0.5967\n",
      "Saving checkpoint for epoch 16 at ./checkpoints/train/ckpt-16\n",
      "Epoch 16 Loss 2.9067 Accuracy 0.5965\n",
      "Validation loss: 3.4629 Validation accuracy 0.5121\n",
      "Time taken for 1 epoch: 249.25 secs\n",
      "\n",
      "Epoch 17 Batch 0 Loss 2.9352 Accuracy 0.5714\n",
      "Epoch 17 Batch 200 Loss 2.8487 Accuracy 0.6048\n",
      "Epoch 17 Batch 400 Loss 2.8512 Accuracy 0.6042\n",
      "Epoch 17 Batch 600 Loss 2.8431 Accuracy 0.6065\n",
      "Epoch 17 Batch 800 Loss 2.8430 Accuracy 0.6068\n",
      "Epoch 17 Batch 1000 Loss 2.8427 Accuracy 0.6073\n",
      "Epoch 17 Batch 1200 Loss 2.8450 Accuracy 0.6069\n",
      "Epoch 17 Batch 1400 Loss 2.8463 Accuracy 0.6067\n",
      "Epoch 17 Batch 1600 Loss 2.8491 Accuracy 0.6063\n",
      "Epoch 17 Batch 1800 Loss 2.8509 Accuracy 0.6061\n",
      "Epoch 17 Batch 2000 Loss 2.8491 Accuracy 0.6064\n",
      "Epoch 17 Batch 2200 Loss 2.8491 Accuracy 0.6065\n",
      "Saving checkpoint for epoch 17 at ./checkpoints/train/ckpt-17\n",
      "Epoch 17 Loss 2.8490 Accuracy 0.6066\n",
      "Validation loss: 3.4460 Validation accuracy 0.5151\n",
      "Time taken for 1 epoch: 250.10 secs\n",
      "\n",
      "Epoch 18 Batch 0 Loss 2.8803 Accuracy 0.5844\n",
      "Epoch 18 Batch 200 Loss 2.8072 Accuracy 0.6127\n",
      "Epoch 18 Batch 400 Loss 2.8046 Accuracy 0.6132\n",
      "Epoch 18 Batch 600 Loss 2.7904 Accuracy 0.6154\n",
      "Epoch 18 Batch 800 Loss 2.7922 Accuracy 0.6154\n",
      "Epoch 18 Batch 1000 Loss 2.7904 Accuracy 0.6161\n",
      "Epoch 18 Batch 1200 Loss 2.7930 Accuracy 0.6158\n",
      "Epoch 18 Batch 1400 Loss 2.7947 Accuracy 0.6157\n",
      "Epoch 18 Batch 1600 Loss 2.7975 Accuracy 0.6153\n",
      "Epoch 18 Batch 1800 Loss 2.7985 Accuracy 0.6153\n",
      "Epoch 18 Batch 2000 Loss 2.7986 Accuracy 0.6155\n",
      "Epoch 18 Batch 2200 Loss 2.7989 Accuracy 0.6155\n",
      "Saving checkpoint for epoch 18 at ./checkpoints/train/ckpt-18\n",
      "Epoch 18 Loss 2.7987 Accuracy 0.6155\n",
      "Validation loss: 3.4475 Validation accuracy 0.5144\n",
      "Time taken for 1 epoch: 251.29 secs\n",
      "\n",
      "Epoch 19 Batch 0 Loss 2.7355 Accuracy 0.6229\n",
      "Epoch 19 Batch 200 Loss 2.7624 Accuracy 0.6203\n",
      "Epoch 19 Batch 400 Loss 2.7493 Accuracy 0.6227\n",
      "Epoch 19 Batch 600 Loss 2.7455 Accuracy 0.6234\n",
      "Epoch 19 Batch 800 Loss 2.7420 Accuracy 0.6245\n",
      "Epoch 19 Batch 1000 Loss 2.7413 Accuracy 0.6250\n",
      "Epoch 19 Batch 1200 Loss 2.7432 Accuracy 0.6247\n",
      "Epoch 19 Batch 1400 Loss 2.7474 Accuracy 0.6240\n",
      "Epoch 19 Batch 1600 Loss 2.7502 Accuracy 0.6235\n",
      "Epoch 19 Batch 1800 Loss 2.7493 Accuracy 0.6239\n",
      "Epoch 19 Batch 2000 Loss 2.7517 Accuracy 0.6237\n",
      "Epoch 19 Batch 2200 Loss 2.7524 Accuracy 0.6236\n",
      "Saving checkpoint for epoch 19 at ./checkpoints/train/ckpt-19\n",
      "Epoch 19 Loss 2.7527 Accuracy 0.6236\n",
      "Validation loss: 3.4340 Validation accuracy 0.5175\n",
      "Time taken for 1 epoch: 251.39 secs\n",
      "\n",
      "Epoch 20 Batch 0 Loss 2.6673 Accuracy 0.6447\n",
      "Epoch 20 Batch 200 Loss 2.7101 Accuracy 0.6304\n",
      "Epoch 20 Batch 400 Loss 2.7144 Accuracy 0.6284\n",
      "Epoch 20 Batch 600 Loss 2.7069 Accuracy 0.6302\n",
      "Epoch 20 Batch 800 Loss 2.7060 Accuracy 0.6311\n",
      "Epoch 20 Batch 1000 Loss 2.7054 Accuracy 0.6314\n",
      "Epoch 20 Batch 1200 Loss 2.7057 Accuracy 0.6315\n",
      "Epoch 20 Batch 1400 Loss 2.7056 Accuracy 0.6316\n",
      "Epoch 20 Batch 1600 Loss 2.7076 Accuracy 0.6312\n",
      "Epoch 20 Batch 1800 Loss 2.7091 Accuracy 0.6312\n",
      "Epoch 20 Batch 2000 Loss 2.7113 Accuracy 0.6309\n",
      "Epoch 20 Batch 2200 Loss 2.7126 Accuracy 0.6306\n",
      "Saving checkpoint for epoch 20 at ./checkpoints/train/ckpt-20\n",
      "Epoch 20 Loss 2.7131 Accuracy 0.6306\n",
      "Validation loss: 3.4329 Validation accuracy 0.5218\n",
      "Time taken for 1 epoch: 251.10 secs\n",
      "\n",
      "Epoch 21 Batch 0 Loss 2.7003 Accuracy 0.6247\n",
      "Epoch 21 Batch 200 Loss 2.6701 Accuracy 0.6375\n",
      "Epoch 21 Batch 400 Loss 2.6723 Accuracy 0.6364\n",
      "Epoch 21 Batch 600 Loss 2.6625 Accuracy 0.6388\n",
      "Epoch 21 Batch 800 Loss 2.6649 Accuracy 0.6389\n",
      "Epoch 21 Batch 1000 Loss 2.6644 Accuracy 0.6391\n",
      "Epoch 21 Batch 1200 Loss 2.6665 Accuracy 0.6391\n",
      "Epoch 21 Batch 1400 Loss 2.6691 Accuracy 0.6385\n",
      "Epoch 21 Batch 1600 Loss 2.6716 Accuracy 0.6382\n",
      "Epoch 21 Batch 1800 Loss 2.6716 Accuracy 0.6382\n",
      "Epoch 21 Batch 2000 Loss 2.6722 Accuracy 0.6382\n",
      "Epoch 21 Batch 2200 Loss 2.6741 Accuracy 0.6378\n",
      "Saving checkpoint for epoch 21 at ./checkpoints/train/ckpt-21\n",
      "Epoch 21 Loss 2.6746 Accuracy 0.6378\n",
      "Validation loss: 3.4445 Validation accuracy 0.5188\n",
      "Time taken for 1 epoch: 251.11 secs\n",
      "\n",
      "Epoch 22 Batch 0 Loss 2.7378 Accuracy 0.6210\n",
      "Epoch 22 Batch 200 Loss 2.6389 Accuracy 0.6431\n",
      "Epoch 22 Batch 400 Loss 2.6395 Accuracy 0.6434\n",
      "Epoch 22 Batch 600 Loss 2.6321 Accuracy 0.6446\n",
      "Epoch 22 Batch 800 Loss 2.6310 Accuracy 0.6452\n",
      "Epoch 22 Batch 1000 Loss 2.6306 Accuracy 0.6452\n",
      "Epoch 22 Batch 1200 Loss 2.6326 Accuracy 0.6447\n",
      "Epoch 22 Batch 1400 Loss 2.6348 Accuracy 0.6443\n",
      "Epoch 22 Batch 1600 Loss 2.6367 Accuracy 0.6442\n",
      "Epoch 22 Batch 1800 Loss 2.6363 Accuracy 0.6443\n",
      "Epoch 22 Batch 2000 Loss 2.6384 Accuracy 0.6440\n",
      "Epoch 22 Batch 2200 Loss 2.6388 Accuracy 0.6441\n",
      "Saving checkpoint for epoch 22 at ./checkpoints/train/ckpt-22\n",
      "Epoch 22 Loss 2.6402 Accuracy 0.6439\n",
      "Validation loss: 3.4277 Validation accuracy 0.5228\n",
      "Time taken for 1 epoch: 250.93 secs\n",
      "\n",
      "Epoch 23 Batch 0 Loss 2.6596 Accuracy 0.6494\n",
      "Epoch 23 Batch 200 Loss 2.6037 Accuracy 0.6498\n",
      "Epoch 23 Batch 400 Loss 2.6005 Accuracy 0.6508\n",
      "Epoch 23 Batch 600 Loss 2.5938 Accuracy 0.6522\n",
      "Epoch 23 Batch 800 Loss 2.5925 Accuracy 0.6526\n",
      "Epoch 23 Batch 1000 Loss 2.5968 Accuracy 0.6520\n",
      "Epoch 23 Batch 1200 Loss 2.6014 Accuracy 0.6508\n",
      "Epoch 23 Batch 1400 Loss 2.6034 Accuracy 0.6505\n",
      "Epoch 23 Batch 1600 Loss 2.6053 Accuracy 0.6503\n",
      "Epoch 23 Batch 1800 Loss 2.6071 Accuracy 0.6501\n",
      "Epoch 23 Batch 2000 Loss 2.6080 Accuracy 0.6502\n",
      "Epoch 23 Batch 2200 Loss 2.6095 Accuracy 0.6498\n",
      "Saving checkpoint for epoch 23 at ./checkpoints/train/ckpt-23\n",
      "Epoch 23 Loss 2.6093 Accuracy 0.6498\n",
      "Validation loss: 3.4349 Validation accuracy 0.5210\n",
      "Time taken for 1 epoch: 248.86 secs\n",
      "\n",
      "Epoch 24 Batch 0 Loss 2.5643 Accuracy 0.6379\n",
      "Epoch 24 Batch 200 Loss 2.5710 Accuracy 0.6560\n",
      "Epoch 24 Batch 400 Loss 2.5701 Accuracy 0.6559\n",
      "Epoch 24 Batch 600 Loss 2.5649 Accuracy 0.6574\n",
      "Epoch 24 Batch 800 Loss 2.5680 Accuracy 0.6568\n",
      "Epoch 24 Batch 1000 Loss 2.5695 Accuracy 0.6566\n",
      "Epoch 24 Batch 1200 Loss 2.5726 Accuracy 0.6563\n",
      "Epoch 24 Batch 1400 Loss 2.5730 Accuracy 0.6565\n",
      "Epoch 24 Batch 1600 Loss 2.5740 Accuracy 0.6564\n",
      "Epoch 24 Batch 1800 Loss 2.5748 Accuracy 0.6561\n",
      "Epoch 24 Batch 2000 Loss 2.5764 Accuracy 0.6559\n",
      "Epoch 24 Batch 2200 Loss 2.5781 Accuracy 0.6556\n",
      "Saving checkpoint for epoch 24 at ./checkpoints/train/ckpt-24\n",
      "Epoch 24 Loss 2.5800 Accuracy 0.6553\n",
      "Validation loss: 3.4450 Validation accuracy 0.5206\n",
      "Time taken for 1 epoch: 249.36 secs\n",
      "\n",
      "Epoch 25 Batch 0 Loss 2.4351 Accuracy 0.6893\n",
      "Epoch 25 Batch 200 Loss 2.5523 Accuracy 0.6586\n",
      "Epoch 25 Batch 400 Loss 2.5482 Accuracy 0.6596\n",
      "Epoch 25 Batch 600 Loss 2.5409 Accuracy 0.6614\n",
      "Epoch 25 Batch 800 Loss 2.5384 Accuracy 0.6624\n",
      "Epoch 25 Batch 1000 Loss 2.5407 Accuracy 0.6623\n",
      "Epoch 25 Batch 1200 Loss 2.5422 Accuracy 0.6621\n",
      "Epoch 25 Batch 1400 Loss 2.5435 Accuracy 0.6621\n",
      "Epoch 25 Batch 1600 Loss 2.5466 Accuracy 0.6615\n",
      "Epoch 25 Batch 1800 Loss 2.5480 Accuracy 0.6613\n",
      "Epoch 25 Batch 2000 Loss 2.5502 Accuracy 0.6610\n",
      "Epoch 25 Batch 2200 Loss 2.5512 Accuracy 0.6610\n",
      "Saving checkpoint for epoch 25 at ./checkpoints/train/ckpt-25\n",
      "Epoch 25 Loss 2.5527 Accuracy 0.6607\n",
      "Validation loss: 3.4537 Validation accuracy 0.5208\n",
      "Time taken for 1 epoch: 248.17 secs\n",
      "\n"
     ]
    }
   ],
   "source": [
    "for epoch in range(EPOCHS):\n",
    "  start = time.time()\n",
    "\n",
    "  train_loss.reset_states()\n",
    "  train_accuracy.reset_states()\n",
    "\n",
    "  # inp -> english, tar -> vietnamese\n",
    "  for (batch, (inp, tar)) in enumerate(train_batches):\n",
    "    train_step(inp, tar)\n",
    "    if batch % 200 == 0:\n",
    "      print(f'Epoch {epoch + 1} Batch {batch} Loss {train_loss.result():.4f} Accuracy {train_accuracy.result():.4f}')\n",
    "  \n",
    "  validation_loss.reset_states()\n",
    "  validation_accuracy.reset_states()\n",
    "\n",
    "  for (batch, (inp, tar)) in enumerate(validation_batches):\n",
    "    tar_inp = tar[:, :-1]\n",
    "    tar_real = tar[:, 1:]\n",
    "\n",
    "    enc_padding_mask, combined_mask, dec_padding_mask = create_masks(inp, tar_inp)\n",
    "\n",
    "    predictions, _ = transformer(inp, tar_inp,\n",
    "                                 True,\n",
    "                                 enc_padding_mask,\n",
    "                                 combined_mask,\n",
    "                                 dec_padding_mask)\n",
    "    val_loss = loss_function(tar_real, predictions)\n",
    "\n",
    "    validation_loss(val_loss)\n",
    "    validation_accuracy(accuracy_function(tar_real, predictions))\n",
    "\n",
    "  if (epoch + 1) % 1 == 0:\n",
    "    ckpt_save_path = ckpt_manager.save()\n",
    "    print(f'Saving checkpoint for epoch {epoch+1} at {ckpt_save_path}')\n",
    "  \n",
    "\n",
    "  print(f'Epoch {epoch + 1} Loss {train_loss.result():.4f} Accuracy {train_accuracy.result():.4f}')\n",
    "\n",
    "  print(f'Validation loss: {validation_loss.result():.4f} Validation accuracy {validation_accuracy.result():.4f}')\n",
    "\n",
    "  print(f'Time taken for 1 epoch: {time.time() - start:.2f} secs\\n')"
   ]
  }
 ],
 "metadata": {
  "accelerator": "GPU",
  "colab": {
   "collapsed_sections": [],
   "name": "machine_translation.ipynb",
   "provenance": []
  },
  "kernelspec": {
   "display_name": "Python 3",
   "language": "python",
   "name": "python3"
  },
  "language_info": {
   "codemirror_mode": {
    "name": "ipython",
    "version": 3
   },
   "file_extension": ".py",
   "mimetype": "text/x-python",
   "name": "python",
   "nbconvert_exporter": "python",
   "pygments_lexer": "ipython3",
   "version": "3.8.5"
  }
 },
 "nbformat": 4,
 "nbformat_minor": 1
}
